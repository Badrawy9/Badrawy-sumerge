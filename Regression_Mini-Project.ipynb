{
  "cells": [
    {
      "cell_type": "markdown",
      "metadata": {
        "id": "ILx-y6s-kY2S"
      },
      "source": [
        "# Linear Regression - Mini-Project 1\n"
      ]
    },
    {
      "cell_type": "markdown",
      "metadata": {
        "id": "Zj3H94BykY2Z"
      },
      "source": [
        "***Edit this cell with your name(s), tutorial number(s) and ID(s)***\n",
        "\n",
        "---\n",
        "\n",
        "Name: Farah Karim\n",
        "\n",
        "ID: 49-0733\n",
        "\n",
        "Tutorial: 2\n",
        "\n",
        "---\n",
        "\n",
        "Name: Mohamed Osama\n",
        "\n",
        "ID:49-5462\n",
        "\n",
        "Tutorial:2\n",
        "\n",
        "---\n",
        "\n",
        "Name:\n",
        "\n",
        "ID:\n",
        "\n",
        "Tutorial:\n",
        "\n",
        "---\n"
      ]
    },
    {
      "cell_type": "markdown",
      "metadata": {
        "id": "8gm93tE_kY2a"
      },
      "source": [
        "## Dataset Description\n",
        "\n",
        "The dataset contains historical car auction sales prices, scraped from the outside internet sources and collected in 2015.\n",
        "\n",
        "Each row represents a sale at a used car auction. Each column is described below.\n",
        "\n",
        "| Column       | Description                                                                                          |\n",
        "| ------------ | ---------------------------------------------------------------------------------------------------- |\n",
        "| year         | Car's year of production                                                                             |\n",
        "| make         | Car make/brand                                                                                       |\n",
        "| model        | Car model                                                                                            |\n",
        "| trim         | Car's trim or grade, which specifies a car model's level of performance, features, options or extras |\n",
        "| body         | Car body type (e.g. Sedan, SUV, Coupe, etc.)                                                         |\n",
        "| transmission | Car transmission type. The mechanism that moves the power from the engine to the wheels.             |\n",
        "| vin          | Vehicle Identification Number, a unique code to identify individual motor vehicles.                  |\n",
        "| state        | The state in which the car was auctioned.                                                            |\n",
        "| condition    | The condition of the cars being at the time of auction, 5 being the best score and 1 being the worst.|\n",
        "| odometer     | The distance traveled by a vehicle since being manufactured, in miles                                |\n",
        "| color        | Exterior color of the car                                                                            |\n",
        "| interior     | Interior color of the car                                                                            |\n",
        "| seller       | The seller of the car or car dealer                                                                  |\n",
        "| mmr          | Manheim\\* Market Report, the market estimated price of the cars. An indicator of wholesale prices.   |\n",
        "| sellingprice | The price a car was sold at in auction.                                                              |\n",
        "| saledate     | The date on which the car has been sold.                                                             |\n",
        "\n",
        "\\*Manheim is a company established in 1945 as a car auction company. It has grown to a very reputable company in the industry and its MMR estimate is a baseline tool for wholesale car price determination. They base their price calculations on over 10 million transaction over the past 13-month period.\n"
      ]
    },
    {
      "cell_type": "markdown",
      "metadata": {
        "id": "TzvybNdekY2d"
      },
      "source": [
        "## Importing Libraries \\& Dataset\n"
      ]
    },
    {
      "cell_type": "code",
      "execution_count": 30,
      "metadata": {
        "colab": {
          "base_uri": "https://localhost:8080/",
          "height": 424
        },
        "id": "EffF-QgbkY2e",
        "outputId": "a2e10108-10eb-4d84-8c0e-57ceb12d3488"
      },
      "outputs": [
        {
          "output_type": "execute_result",
          "data": {
            "text/plain": [
              "   year     make         model   trim          body transmission  \\\n",
              "0  2013  Hyundai        Sonata    GLS         sedan    automatic   \n",
              "1  2014   Toyota       4Runner    SR5           SUV    automatic   \n",
              "2  2012    Lexus        IS 250   Base         Sedan    automatic   \n",
              "3  2002      BMW            X5   4.4i           SUV    automatic   \n",
              "4  2014     Ford  E-Series Van  E-250  E-Series Van    automatic   \n",
              "\n",
              "                 vin state  condition    odometer   color interior  \\\n",
              "0  5npeb4acxdh702805    ma        3.9   50404.0mi   black     gray   \n",
              "1  jtezu5jr2e5064567    fl        4.9   17846.0mi    gray        —   \n",
              "2  jthbf5c24c5168599    fl        4.1   21122.0mi  silver    black   \n",
              "3  5uxfb33562lh33864    fl        1.9  145303.0mi   black    black   \n",
              "4  1ftne2ew0eda31832    wa        4.9    6714.0mi   white     gray   \n",
              "\n",
              "                             seller     mmr sellingprice  \\\n",
              "0             the hertz corporation  $11000       $10900   \n",
              "1  award auto sales and leasing inc  $28700       $29900   \n",
              "2          lexus financial services  $22200       $24200   \n",
              "3                        peddle llc   $3675        $3200   \n",
              "4                            u-haul  $22500       $22100   \n",
              "\n",
              "                                  saledate  \n",
              "0  Tue Jun 02 2015 02:30:00 GMT-0700 (PDT)  \n",
              "1  Wed Feb 18 2015 07:15:00 GMT-0800 (PST)  \n",
              "2  Tue Jan 20 2015 01:30:00 GMT-0800 (PST)  \n",
              "3  Wed Mar 04 2015 07:10:00 GMT-0800 (PST)  \n",
              "4  Wed Feb 18 2015 06:45:00 GMT-0800 (PST)  "
            ],
            "text/html": [
              "\n",
              "  <div id=\"df-fadaa66e-d609-4c24-b3b2-cd0553f19dc4\">\n",
              "    <div class=\"colab-df-container\">\n",
              "      <div>\n",
              "<style scoped>\n",
              "    .dataframe tbody tr th:only-of-type {\n",
              "        vertical-align: middle;\n",
              "    }\n",
              "\n",
              "    .dataframe tbody tr th {\n",
              "        vertical-align: top;\n",
              "    }\n",
              "\n",
              "    .dataframe thead th {\n",
              "        text-align: right;\n",
              "    }\n",
              "</style>\n",
              "<table border=\"1\" class=\"dataframe\">\n",
              "  <thead>\n",
              "    <tr style=\"text-align: right;\">\n",
              "      <th></th>\n",
              "      <th>year</th>\n",
              "      <th>make</th>\n",
              "      <th>model</th>\n",
              "      <th>trim</th>\n",
              "      <th>body</th>\n",
              "      <th>transmission</th>\n",
              "      <th>vin</th>\n",
              "      <th>state</th>\n",
              "      <th>condition</th>\n",
              "      <th>odometer</th>\n",
              "      <th>color</th>\n",
              "      <th>interior</th>\n",
              "      <th>seller</th>\n",
              "      <th>mmr</th>\n",
              "      <th>sellingprice</th>\n",
              "      <th>saledate</th>\n",
              "    </tr>\n",
              "  </thead>\n",
              "  <tbody>\n",
              "    <tr>\n",
              "      <th>0</th>\n",
              "      <td>2013</td>\n",
              "      <td>Hyundai</td>\n",
              "      <td>Sonata</td>\n",
              "      <td>GLS</td>\n",
              "      <td>sedan</td>\n",
              "      <td>automatic</td>\n",
              "      <td>5npeb4acxdh702805</td>\n",
              "      <td>ma</td>\n",
              "      <td>3.9</td>\n",
              "      <td>50404.0mi</td>\n",
              "      <td>black</td>\n",
              "      <td>gray</td>\n",
              "      <td>the hertz corporation</td>\n",
              "      <td>$11000</td>\n",
              "      <td>$10900</td>\n",
              "      <td>Tue Jun 02 2015 02:30:00 GMT-0700 (PDT)</td>\n",
              "    </tr>\n",
              "    <tr>\n",
              "      <th>1</th>\n",
              "      <td>2014</td>\n",
              "      <td>Toyota</td>\n",
              "      <td>4Runner</td>\n",
              "      <td>SR5</td>\n",
              "      <td>SUV</td>\n",
              "      <td>automatic</td>\n",
              "      <td>jtezu5jr2e5064567</td>\n",
              "      <td>fl</td>\n",
              "      <td>4.9</td>\n",
              "      <td>17846.0mi</td>\n",
              "      <td>gray</td>\n",
              "      <td>—</td>\n",
              "      <td>award auto sales and leasing inc</td>\n",
              "      <td>$28700</td>\n",
              "      <td>$29900</td>\n",
              "      <td>Wed Feb 18 2015 07:15:00 GMT-0800 (PST)</td>\n",
              "    </tr>\n",
              "    <tr>\n",
              "      <th>2</th>\n",
              "      <td>2012</td>\n",
              "      <td>Lexus</td>\n",
              "      <td>IS 250</td>\n",
              "      <td>Base</td>\n",
              "      <td>Sedan</td>\n",
              "      <td>automatic</td>\n",
              "      <td>jthbf5c24c5168599</td>\n",
              "      <td>fl</td>\n",
              "      <td>4.1</td>\n",
              "      <td>21122.0mi</td>\n",
              "      <td>silver</td>\n",
              "      <td>black</td>\n",
              "      <td>lexus financial services</td>\n",
              "      <td>$22200</td>\n",
              "      <td>$24200</td>\n",
              "      <td>Tue Jan 20 2015 01:30:00 GMT-0800 (PST)</td>\n",
              "    </tr>\n",
              "    <tr>\n",
              "      <th>3</th>\n",
              "      <td>2002</td>\n",
              "      <td>BMW</td>\n",
              "      <td>X5</td>\n",
              "      <td>4.4i</td>\n",
              "      <td>SUV</td>\n",
              "      <td>automatic</td>\n",
              "      <td>5uxfb33562lh33864</td>\n",
              "      <td>fl</td>\n",
              "      <td>1.9</td>\n",
              "      <td>145303.0mi</td>\n",
              "      <td>black</td>\n",
              "      <td>black</td>\n",
              "      <td>peddle llc</td>\n",
              "      <td>$3675</td>\n",
              "      <td>$3200</td>\n",
              "      <td>Wed Mar 04 2015 07:10:00 GMT-0800 (PST)</td>\n",
              "    </tr>\n",
              "    <tr>\n",
              "      <th>4</th>\n",
              "      <td>2014</td>\n",
              "      <td>Ford</td>\n",
              "      <td>E-Series Van</td>\n",
              "      <td>E-250</td>\n",
              "      <td>E-Series Van</td>\n",
              "      <td>automatic</td>\n",
              "      <td>1ftne2ew0eda31832</td>\n",
              "      <td>wa</td>\n",
              "      <td>4.9</td>\n",
              "      <td>6714.0mi</td>\n",
              "      <td>white</td>\n",
              "      <td>gray</td>\n",
              "      <td>u-haul</td>\n",
              "      <td>$22500</td>\n",
              "      <td>$22100</td>\n",
              "      <td>Wed Feb 18 2015 06:45:00 GMT-0800 (PST)</td>\n",
              "    </tr>\n",
              "  </tbody>\n",
              "</table>\n",
              "</div>\n",
              "      <button class=\"colab-df-convert\" onclick=\"convertToInteractive('df-fadaa66e-d609-4c24-b3b2-cd0553f19dc4')\"\n",
              "              title=\"Convert this dataframe to an interactive table.\"\n",
              "              style=\"display:none;\">\n",
              "        \n",
              "  <svg xmlns=\"http://www.w3.org/2000/svg\" height=\"24px\"viewBox=\"0 0 24 24\"\n",
              "       width=\"24px\">\n",
              "    <path d=\"M0 0h24v24H0V0z\" fill=\"none\"/>\n",
              "    <path d=\"M18.56 5.44l.94 2.06.94-2.06 2.06-.94-2.06-.94-.94-2.06-.94 2.06-2.06.94zm-11 1L8.5 8.5l.94-2.06 2.06-.94-2.06-.94L8.5 2.5l-.94 2.06-2.06.94zm10 10l.94 2.06.94-2.06 2.06-.94-2.06-.94-.94-2.06-.94 2.06-2.06.94z\"/><path d=\"M17.41 7.96l-1.37-1.37c-.4-.4-.92-.59-1.43-.59-.52 0-1.04.2-1.43.59L10.3 9.45l-7.72 7.72c-.78.78-.78 2.05 0 2.83L4 21.41c.39.39.9.59 1.41.59.51 0 1.02-.2 1.41-.59l7.78-7.78 2.81-2.81c.8-.78.8-2.07 0-2.86zM5.41 20L4 18.59l7.72-7.72 1.47 1.35L5.41 20z\"/>\n",
              "  </svg>\n",
              "      </button>\n",
              "      \n",
              "  <style>\n",
              "    .colab-df-container {\n",
              "      display:flex;\n",
              "      flex-wrap:wrap;\n",
              "      gap: 12px;\n",
              "    }\n",
              "\n",
              "    .colab-df-convert {\n",
              "      background-color: #E8F0FE;\n",
              "      border: none;\n",
              "      border-radius: 50%;\n",
              "      cursor: pointer;\n",
              "      display: none;\n",
              "      fill: #1967D2;\n",
              "      height: 32px;\n",
              "      padding: 0 0 0 0;\n",
              "      width: 32px;\n",
              "    }\n",
              "\n",
              "    .colab-df-convert:hover {\n",
              "      background-color: #E2EBFA;\n",
              "      box-shadow: 0px 1px 2px rgba(60, 64, 67, 0.3), 0px 1px 3px 1px rgba(60, 64, 67, 0.15);\n",
              "      fill: #174EA6;\n",
              "    }\n",
              "\n",
              "    [theme=dark] .colab-df-convert {\n",
              "      background-color: #3B4455;\n",
              "      fill: #D2E3FC;\n",
              "    }\n",
              "\n",
              "    [theme=dark] .colab-df-convert:hover {\n",
              "      background-color: #434B5C;\n",
              "      box-shadow: 0px 1px 3px 1px rgba(0, 0, 0, 0.15);\n",
              "      filter: drop-shadow(0px 1px 2px rgba(0, 0, 0, 0.3));\n",
              "      fill: #FFFFFF;\n",
              "    }\n",
              "  </style>\n",
              "\n",
              "      <script>\n",
              "        const buttonEl =\n",
              "          document.querySelector('#df-fadaa66e-d609-4c24-b3b2-cd0553f19dc4 button.colab-df-convert');\n",
              "        buttonEl.style.display =\n",
              "          google.colab.kernel.accessAllowed ? 'block' : 'none';\n",
              "\n",
              "        async function convertToInteractive(key) {\n",
              "          const element = document.querySelector('#df-fadaa66e-d609-4c24-b3b2-cd0553f19dc4');\n",
              "          const dataTable =\n",
              "            await google.colab.kernel.invokeFunction('convertToInteractive',\n",
              "                                                     [key], {});\n",
              "          if (!dataTable) return;\n",
              "\n",
              "          const docLinkHtml = 'Like what you see? Visit the ' +\n",
              "            '<a target=\"_blank\" href=https://colab.research.google.com/notebooks/data_table.ipynb>data table notebook</a>'\n",
              "            + ' to learn more about interactive tables.';\n",
              "          element.innerHTML = '';\n",
              "          dataTable['output_type'] = 'display_data';\n",
              "          await google.colab.output.renderOutput(dataTable, element);\n",
              "          const docLink = document.createElement('div');\n",
              "          docLink.innerHTML = docLinkHtml;\n",
              "          element.appendChild(docLink);\n",
              "        }\n",
              "      </script>\n",
              "    </div>\n",
              "  </div>\n",
              "  "
            ]
          },
          "metadata": {},
          "execution_count": 30
        }
      ],
      "source": [
        "import pandas as pd\n",
        "import numpy as np\n",
        "import matplotlib.pyplot as plt\n",
        "import seaborn as sns\n",
        "\n",
        "%matplotlib inline\n",
        "plt.style.use(\"seaborn\")\n",
        "\n",
        "try:\n",
        "    df = pd.read_csv('car_prices.csv')\n",
        "except:\n",
        "    df = pd.read_csv('https://raw.githubusercontent.com/GUC-DM/W2022/main/data/car_prices.csv')\n",
        "\n",
        "df.head()"
      ]
    },
    {
      "cell_type": "markdown",
      "metadata": {
        "id": "T3DoAjeHkY2h"
      },
      "source": [
        "## Data Inspection\n",
        "\n",
        "Perform data inspection tasks here (recommended for data understanding)."
      ]
    },
    {
      "cell_type": "code",
      "execution_count": 26,
      "metadata": {
        "colab": {
          "base_uri": "https://localhost:8080/",
          "height": 815
        },
        "id": "YjqAUoMekY2h",
        "outputId": "d9241cca-4ffe-4b98-b469-3bc912690b82"
      },
      "outputs": [
        {
          "output_type": "display_data",
          "data": {
            "text/plain": [
              "       year      make         model         trim          body transmission  \\\n",
              "0      2013   Hyundai        Sonata          GLS         sedan    automatic   \n",
              "1      2014    Toyota       4Runner          SR5           SUV    automatic   \n",
              "2      2012     Lexus        IS 250         Base         Sedan    automatic   \n",
              "3      2002       BMW            X5         4.4i           SUV    automatic   \n",
              "4      2014      Ford  E-Series Van        E-250  E-Series Van    automatic   \n",
              "...     ...       ...           ...          ...           ...          ...   \n",
              "46573  2013      Ford          Edge           SE           SUV    automatic   \n",
              "46574  2012  Infiniti       G Sedan  G37 Journey       g sedan    automatic   \n",
              "46575  2013       BMW      3 Series         328i         Sedan    automatic   \n",
              "46576  2013    Toyota         Camry           LE         Sedan    automatic   \n",
              "46577  2013       Kia           Rio           LX         Sedan    automatic   \n",
              "\n",
              "                     vin state  condition  odometer   color interior  \\\n",
              "0      5npeb4acxdh702805    ma        3.9   50404.0   black     gray   \n",
              "1      jtezu5jr2e5064567    fl        4.9   17846.0    gray        —   \n",
              "2      jthbf5c24c5168599    fl        4.1   21122.0  silver    black   \n",
              "3      5uxfb33562lh33864    fl        1.9  145303.0   black    black   \n",
              "4      1ftne2ew0eda31832    wa        4.9    6714.0   white     gray   \n",
              "...                  ...   ...        ...       ...     ...      ...   \n",
              "46573  2fmdk4gc2dbc03247    va        3.5   52844.0       —     gray   \n",
              "46574  jn1cv6ap9cm623162    ca        4.5   23185.0   black    black   \n",
              "46575  wba3a5c56df356614    tx        4.2   45357.0   white    beige   \n",
              "46576  4t1bf1fk8du254684    ca        3.5   43376.0   black    beige   \n",
              "46577  knadm4a32d6164825    ga        4.1   49953.0  silver    black   \n",
              "\n",
              "                                 seller    mmr sellingprice  \\\n",
              "0                 the hertz corporation  11000        10900   \n",
              "1      award auto sales and leasing inc  28700        29900   \n",
              "2              lexus financial services  22200        24200   \n",
              "3                            peddle llc   3675         3200   \n",
              "4                                u-haul  22500        22100   \n",
              "...                                 ...    ...          ...   \n",
              "46573               wheels exchange llc  15650        17000   \n",
              "46574                nissan infiniti lt  19350        21500   \n",
              "46575          motorcars of south texas  22200        22000   \n",
              "46576              avis rac/san leandro  13400        13800   \n",
              "46577                kia motors finance   9700         9300   \n",
              "\n",
              "                                      saledate  \n",
              "0      Tue Jun 02 2015 02:30:00 GMT-0700 (PDT)  \n",
              "1      Wed Feb 18 2015 07:15:00 GMT-0800 (PST)  \n",
              "2      Tue Jan 20 2015 01:30:00 GMT-0800 (PST)  \n",
              "3      Wed Mar 04 2015 07:10:00 GMT-0800 (PST)  \n",
              "4      Wed Feb 18 2015 06:45:00 GMT-0800 (PST)  \n",
              "...                                        ...  \n",
              "46573  Wed Jan 07 2015 09:30:00 GMT-0800 (PST)  \n",
              "46574  Thu Jun 18 2015 05:30:00 GMT-0700 (PDT)  \n",
              "46575  Wed Feb 18 2015 02:00:00 GMT-0800 (PST)  \n",
              "46576  Wed Jan 14 2015 04:30:00 GMT-0800 (PST)  \n",
              "46577  Thu Dec 18 2014 10:00:00 GMT-0800 (PST)  \n",
              "\n",
              "[46578 rows x 16 columns]"
            ],
            "text/html": [
              "\n",
              "  <div id=\"df-c26dfd61-9fde-4378-84eb-c346c7ff9097\">\n",
              "    <div class=\"colab-df-container\">\n",
              "      <div>\n",
              "<style scoped>\n",
              "    .dataframe tbody tr th:only-of-type {\n",
              "        vertical-align: middle;\n",
              "    }\n",
              "\n",
              "    .dataframe tbody tr th {\n",
              "        vertical-align: top;\n",
              "    }\n",
              "\n",
              "    .dataframe thead th {\n",
              "        text-align: right;\n",
              "    }\n",
              "</style>\n",
              "<table border=\"1\" class=\"dataframe\">\n",
              "  <thead>\n",
              "    <tr style=\"text-align: right;\">\n",
              "      <th></th>\n",
              "      <th>year</th>\n",
              "      <th>make</th>\n",
              "      <th>model</th>\n",
              "      <th>trim</th>\n",
              "      <th>body</th>\n",
              "      <th>transmission</th>\n",
              "      <th>vin</th>\n",
              "      <th>state</th>\n",
              "      <th>condition</th>\n",
              "      <th>odometer</th>\n",
              "      <th>color</th>\n",
              "      <th>interior</th>\n",
              "      <th>seller</th>\n",
              "      <th>mmr</th>\n",
              "      <th>sellingprice</th>\n",
              "      <th>saledate</th>\n",
              "    </tr>\n",
              "  </thead>\n",
              "  <tbody>\n",
              "    <tr>\n",
              "      <th>0</th>\n",
              "      <td>2013</td>\n",
              "      <td>Hyundai</td>\n",
              "      <td>Sonata</td>\n",
              "      <td>GLS</td>\n",
              "      <td>sedan</td>\n",
              "      <td>automatic</td>\n",
              "      <td>5npeb4acxdh702805</td>\n",
              "      <td>ma</td>\n",
              "      <td>3.9</td>\n",
              "      <td>50404.0</td>\n",
              "      <td>black</td>\n",
              "      <td>gray</td>\n",
              "      <td>the hertz corporation</td>\n",
              "      <td>11000</td>\n",
              "      <td>10900</td>\n",
              "      <td>Tue Jun 02 2015 02:30:00 GMT-0700 (PDT)</td>\n",
              "    </tr>\n",
              "    <tr>\n",
              "      <th>1</th>\n",
              "      <td>2014</td>\n",
              "      <td>Toyota</td>\n",
              "      <td>4Runner</td>\n",
              "      <td>SR5</td>\n",
              "      <td>SUV</td>\n",
              "      <td>automatic</td>\n",
              "      <td>jtezu5jr2e5064567</td>\n",
              "      <td>fl</td>\n",
              "      <td>4.9</td>\n",
              "      <td>17846.0</td>\n",
              "      <td>gray</td>\n",
              "      <td>—</td>\n",
              "      <td>award auto sales and leasing inc</td>\n",
              "      <td>28700</td>\n",
              "      <td>29900</td>\n",
              "      <td>Wed Feb 18 2015 07:15:00 GMT-0800 (PST)</td>\n",
              "    </tr>\n",
              "    <tr>\n",
              "      <th>2</th>\n",
              "      <td>2012</td>\n",
              "      <td>Lexus</td>\n",
              "      <td>IS 250</td>\n",
              "      <td>Base</td>\n",
              "      <td>Sedan</td>\n",
              "      <td>automatic</td>\n",
              "      <td>jthbf5c24c5168599</td>\n",
              "      <td>fl</td>\n",
              "      <td>4.1</td>\n",
              "      <td>21122.0</td>\n",
              "      <td>silver</td>\n",
              "      <td>black</td>\n",
              "      <td>lexus financial services</td>\n",
              "      <td>22200</td>\n",
              "      <td>24200</td>\n",
              "      <td>Tue Jan 20 2015 01:30:00 GMT-0800 (PST)</td>\n",
              "    </tr>\n",
              "    <tr>\n",
              "      <th>3</th>\n",
              "      <td>2002</td>\n",
              "      <td>BMW</td>\n",
              "      <td>X5</td>\n",
              "      <td>4.4i</td>\n",
              "      <td>SUV</td>\n",
              "      <td>automatic</td>\n",
              "      <td>5uxfb33562lh33864</td>\n",
              "      <td>fl</td>\n",
              "      <td>1.9</td>\n",
              "      <td>145303.0</td>\n",
              "      <td>black</td>\n",
              "      <td>black</td>\n",
              "      <td>peddle llc</td>\n",
              "      <td>3675</td>\n",
              "      <td>3200</td>\n",
              "      <td>Wed Mar 04 2015 07:10:00 GMT-0800 (PST)</td>\n",
              "    </tr>\n",
              "    <tr>\n",
              "      <th>4</th>\n",
              "      <td>2014</td>\n",
              "      <td>Ford</td>\n",
              "      <td>E-Series Van</td>\n",
              "      <td>E-250</td>\n",
              "      <td>E-Series Van</td>\n",
              "      <td>automatic</td>\n",
              "      <td>1ftne2ew0eda31832</td>\n",
              "      <td>wa</td>\n",
              "      <td>4.9</td>\n",
              "      <td>6714.0</td>\n",
              "      <td>white</td>\n",
              "      <td>gray</td>\n",
              "      <td>u-haul</td>\n",
              "      <td>22500</td>\n",
              "      <td>22100</td>\n",
              "      <td>Wed Feb 18 2015 06:45:00 GMT-0800 (PST)</td>\n",
              "    </tr>\n",
              "    <tr>\n",
              "      <th>...</th>\n",
              "      <td>...</td>\n",
              "      <td>...</td>\n",
              "      <td>...</td>\n",
              "      <td>...</td>\n",
              "      <td>...</td>\n",
              "      <td>...</td>\n",
              "      <td>...</td>\n",
              "      <td>...</td>\n",
              "      <td>...</td>\n",
              "      <td>...</td>\n",
              "      <td>...</td>\n",
              "      <td>...</td>\n",
              "      <td>...</td>\n",
              "      <td>...</td>\n",
              "      <td>...</td>\n",
              "      <td>...</td>\n",
              "    </tr>\n",
              "    <tr>\n",
              "      <th>46573</th>\n",
              "      <td>2013</td>\n",
              "      <td>Ford</td>\n",
              "      <td>Edge</td>\n",
              "      <td>SE</td>\n",
              "      <td>SUV</td>\n",
              "      <td>automatic</td>\n",
              "      <td>2fmdk4gc2dbc03247</td>\n",
              "      <td>va</td>\n",
              "      <td>3.5</td>\n",
              "      <td>52844.0</td>\n",
              "      <td>—</td>\n",
              "      <td>gray</td>\n",
              "      <td>wheels exchange llc</td>\n",
              "      <td>15650</td>\n",
              "      <td>17000</td>\n",
              "      <td>Wed Jan 07 2015 09:30:00 GMT-0800 (PST)</td>\n",
              "    </tr>\n",
              "    <tr>\n",
              "      <th>46574</th>\n",
              "      <td>2012</td>\n",
              "      <td>Infiniti</td>\n",
              "      <td>G Sedan</td>\n",
              "      <td>G37 Journey</td>\n",
              "      <td>g sedan</td>\n",
              "      <td>automatic</td>\n",
              "      <td>jn1cv6ap9cm623162</td>\n",
              "      <td>ca</td>\n",
              "      <td>4.5</td>\n",
              "      <td>23185.0</td>\n",
              "      <td>black</td>\n",
              "      <td>black</td>\n",
              "      <td>nissan infiniti lt</td>\n",
              "      <td>19350</td>\n",
              "      <td>21500</td>\n",
              "      <td>Thu Jun 18 2015 05:30:00 GMT-0700 (PDT)</td>\n",
              "    </tr>\n",
              "    <tr>\n",
              "      <th>46575</th>\n",
              "      <td>2013</td>\n",
              "      <td>BMW</td>\n",
              "      <td>3 Series</td>\n",
              "      <td>328i</td>\n",
              "      <td>Sedan</td>\n",
              "      <td>automatic</td>\n",
              "      <td>wba3a5c56df356614</td>\n",
              "      <td>tx</td>\n",
              "      <td>4.2</td>\n",
              "      <td>45357.0</td>\n",
              "      <td>white</td>\n",
              "      <td>beige</td>\n",
              "      <td>motorcars of south texas</td>\n",
              "      <td>22200</td>\n",
              "      <td>22000</td>\n",
              "      <td>Wed Feb 18 2015 02:00:00 GMT-0800 (PST)</td>\n",
              "    </tr>\n",
              "    <tr>\n",
              "      <th>46576</th>\n",
              "      <td>2013</td>\n",
              "      <td>Toyota</td>\n",
              "      <td>Camry</td>\n",
              "      <td>LE</td>\n",
              "      <td>Sedan</td>\n",
              "      <td>automatic</td>\n",
              "      <td>4t1bf1fk8du254684</td>\n",
              "      <td>ca</td>\n",
              "      <td>3.5</td>\n",
              "      <td>43376.0</td>\n",
              "      <td>black</td>\n",
              "      <td>beige</td>\n",
              "      <td>avis rac/san leandro</td>\n",
              "      <td>13400</td>\n",
              "      <td>13800</td>\n",
              "      <td>Wed Jan 14 2015 04:30:00 GMT-0800 (PST)</td>\n",
              "    </tr>\n",
              "    <tr>\n",
              "      <th>46577</th>\n",
              "      <td>2013</td>\n",
              "      <td>Kia</td>\n",
              "      <td>Rio</td>\n",
              "      <td>LX</td>\n",
              "      <td>Sedan</td>\n",
              "      <td>automatic</td>\n",
              "      <td>knadm4a32d6164825</td>\n",
              "      <td>ga</td>\n",
              "      <td>4.1</td>\n",
              "      <td>49953.0</td>\n",
              "      <td>silver</td>\n",
              "      <td>black</td>\n",
              "      <td>kia motors finance</td>\n",
              "      <td>9700</td>\n",
              "      <td>9300</td>\n",
              "      <td>Thu Dec 18 2014 10:00:00 GMT-0800 (PST)</td>\n",
              "    </tr>\n",
              "  </tbody>\n",
              "</table>\n",
              "<p>46578 rows × 16 columns</p>\n",
              "</div>\n",
              "      <button class=\"colab-df-convert\" onclick=\"convertToInteractive('df-c26dfd61-9fde-4378-84eb-c346c7ff9097')\"\n",
              "              title=\"Convert this dataframe to an interactive table.\"\n",
              "              style=\"display:none;\">\n",
              "        \n",
              "  <svg xmlns=\"http://www.w3.org/2000/svg\" height=\"24px\"viewBox=\"0 0 24 24\"\n",
              "       width=\"24px\">\n",
              "    <path d=\"M0 0h24v24H0V0z\" fill=\"none\"/>\n",
              "    <path d=\"M18.56 5.44l.94 2.06.94-2.06 2.06-.94-2.06-.94-.94-2.06-.94 2.06-2.06.94zm-11 1L8.5 8.5l.94-2.06 2.06-.94-2.06-.94L8.5 2.5l-.94 2.06-2.06.94zm10 10l.94 2.06.94-2.06 2.06-.94-2.06-.94-.94-2.06-.94 2.06-2.06.94z\"/><path d=\"M17.41 7.96l-1.37-1.37c-.4-.4-.92-.59-1.43-.59-.52 0-1.04.2-1.43.59L10.3 9.45l-7.72 7.72c-.78.78-.78 2.05 0 2.83L4 21.41c.39.39.9.59 1.41.59.51 0 1.02-.2 1.41-.59l7.78-7.78 2.81-2.81c.8-.78.8-2.07 0-2.86zM5.41 20L4 18.59l7.72-7.72 1.47 1.35L5.41 20z\"/>\n",
              "  </svg>\n",
              "      </button>\n",
              "      \n",
              "  <style>\n",
              "    .colab-df-container {\n",
              "      display:flex;\n",
              "      flex-wrap:wrap;\n",
              "      gap: 12px;\n",
              "    }\n",
              "\n",
              "    .colab-df-convert {\n",
              "      background-color: #E8F0FE;\n",
              "      border: none;\n",
              "      border-radius: 50%;\n",
              "      cursor: pointer;\n",
              "      display: none;\n",
              "      fill: #1967D2;\n",
              "      height: 32px;\n",
              "      padding: 0 0 0 0;\n",
              "      width: 32px;\n",
              "    }\n",
              "\n",
              "    .colab-df-convert:hover {\n",
              "      background-color: #E2EBFA;\n",
              "      box-shadow: 0px 1px 2px rgba(60, 64, 67, 0.3), 0px 1px 3px 1px rgba(60, 64, 67, 0.15);\n",
              "      fill: #174EA6;\n",
              "    }\n",
              "\n",
              "    [theme=dark] .colab-df-convert {\n",
              "      background-color: #3B4455;\n",
              "      fill: #D2E3FC;\n",
              "    }\n",
              "\n",
              "    [theme=dark] .colab-df-convert:hover {\n",
              "      background-color: #434B5C;\n",
              "      box-shadow: 0px 1px 3px 1px rgba(0, 0, 0, 0.15);\n",
              "      filter: drop-shadow(0px 1px 2px rgba(0, 0, 0, 0.3));\n",
              "      fill: #FFFFFF;\n",
              "    }\n",
              "  </style>\n",
              "\n",
              "      <script>\n",
              "        const buttonEl =\n",
              "          document.querySelector('#df-c26dfd61-9fde-4378-84eb-c346c7ff9097 button.colab-df-convert');\n",
              "        buttonEl.style.display =\n",
              "          google.colab.kernel.accessAllowed ? 'block' : 'none';\n",
              "\n",
              "        async function convertToInteractive(key) {\n",
              "          const element = document.querySelector('#df-c26dfd61-9fde-4378-84eb-c346c7ff9097');\n",
              "          const dataTable =\n",
              "            await google.colab.kernel.invokeFunction('convertToInteractive',\n",
              "                                                     [key], {});\n",
              "          if (!dataTable) return;\n",
              "\n",
              "          const docLinkHtml = 'Like what you see? Visit the ' +\n",
              "            '<a target=\"_blank\" href=https://colab.research.google.com/notebooks/data_table.ipynb>data table notebook</a>'\n",
              "            + ' to learn more about interactive tables.';\n",
              "          element.innerHTML = '';\n",
              "          dataTable['output_type'] = 'display_data';\n",
              "          await google.colab.output.renderOutput(dataTable, element);\n",
              "          const docLink = document.createElement('div');\n",
              "          docLink.innerHTML = docLinkHtml;\n",
              "          element.appendChild(docLink);\n",
              "        }\n",
              "      </script>\n",
              "    </div>\n",
              "  </div>\n",
              "  "
            ]
          },
          "metadata": {}
        }
      ],
      "source": [
        "df.describe()\n",
        "df.columns\n",
        "df.tail()\n",
        "display(df)"
      ]
    },
    {
      "cell_type": "markdown",
      "metadata": {
        "id": "-ysUF9-nkY2i"
      },
      "source": [
        "## Data Pre-Processing & Cleaning\n",
        "\n",
        "_Apply any data preprocessing and/or feature engineering below. Show/output the changes to the dataset._"
      ]
    },
    {
      "cell_type": "code",
      "execution_count": 31,
      "metadata": {
        "colab": {
          "base_uri": "https://localhost:8080/",
          "height": 1000
        },
        "id": "cY1o33mxkY2i",
        "outputId": "6d4f487f-f7c4-4e6a-bada-81110e4d5397"
      },
      "outputs": [
        {
          "output_type": "stream",
          "name": "stderr",
          "text": [
            "/usr/local/lib/python3.7/dist-packages/ipykernel_launcher.py:4: FutureWarning: The default value of regex will change from True to False in a future version. In addition, single character regular expressions will *not* be treated as literal strings when regex=True.\n",
            "  after removing the cwd from sys.path.\n",
            "/usr/local/lib/python3.7/dist-packages/ipykernel_launcher.py:6: FutureWarning: The default value of regex will change from True to False in a future version. In addition, single character regular expressions will *not* be treated as literal strings when regex=True.\n",
            "  \n"
          ]
        },
        {
          "output_type": "stream",
          "name": "stdout",
          "text": [
            "<class 'pandas.core.frame.DataFrame'>\n",
            "RangeIndex: 46578 entries, 0 to 46577\n",
            "Data columns (total 16 columns):\n",
            " #   Column        Non-Null Count  Dtype  \n",
            "---  ------        --------------  -----  \n",
            " 0   year          46578 non-null  int64  \n",
            " 1   make          46578 non-null  object \n",
            " 2   model         46578 non-null  object \n",
            " 3   trim          46578 non-null  object \n",
            " 4   body          46578 non-null  object \n",
            " 5   transmission  46578 non-null  object \n",
            " 6   vin           46578 non-null  object \n",
            " 7   state         46578 non-null  object \n",
            " 8   condition     46578 non-null  float64\n",
            " 9   odometer      46578 non-null  float64\n",
            " 10  color         46578 non-null  object \n",
            " 11  interior      46578 non-null  object \n",
            " 12  seller        46578 non-null  object \n",
            " 13  mmr           46578 non-null  int64  \n",
            " 14  sellingprice  46578 non-null  int64  \n",
            " 15  saledate      46578 non-null  object \n",
            "dtypes: float64(2), int64(3), object(11)\n",
            "memory usage: 5.7+ MB\n"
          ]
        },
        {
          "output_type": "display_data",
          "data": {
            "text/plain": [
              "       year      make         model         trim     body transmission  \\\n",
              "0      2013   Hyundai        Sonata          GLS    Sedan            1   \n",
              "1      2014    Toyota       4runner          SR5      SUV            1   \n",
              "2      2012     Lexus        Is 250         Base    Sedan            1   \n",
              "3      2002       BMW            X5         4.4i      SUV            1   \n",
              "4      2014      Ford  E-series van        E-250  MiniVan            1   \n",
              "...     ...       ...           ...          ...      ...          ...   \n",
              "46573  2013      Ford          Edge           SE      SUV            1   \n",
              "46574  2012  Infiniti       G sedan  G37 Journey    Sedan            1   \n",
              "46575  2013       BMW      3 series         328i    Sedan            1   \n",
              "46576  2013    Toyota         Camry           LE    Sedan            1   \n",
              "46577  2013       Kia           Rio           LX    Sedan            1   \n",
              "\n",
              "                     vin state  condition  odometer    color interior  \\\n",
              "0      5npeb4acxdh702805    ma        3.9   50404.0    black     gray   \n",
              "1      jtezu5jr2e5064567    fl        4.9   17846.0     gray  unknown   \n",
              "2      jthbf5c24c5168599    fl        4.1   21122.0   silver    black   \n",
              "3      5uxfb33562lh33864    fl        1.9  145303.0    black    black   \n",
              "4      1ftne2ew0eda31832    wa        4.9    6714.0    white     gray   \n",
              "...                  ...   ...        ...       ...      ...      ...   \n",
              "46573  2fmdk4gc2dbc03247    va        3.5   52844.0  unknown     gray   \n",
              "46574  jn1cv6ap9cm623162    ca        4.5   23185.0    black    black   \n",
              "46575  wba3a5c56df356614    tx        4.2   45357.0    white    beige   \n",
              "46576  4t1bf1fk8du254684    ca        3.5   43376.0    black    beige   \n",
              "46577  knadm4a32d6164825    ga        4.1   49953.0   silver    black   \n",
              "\n",
              "                                 seller    mmr  sellingprice  \\\n",
              "0                 the hertz corporation  11000         10900   \n",
              "1      award auto sales and leasing inc  28700         29900   \n",
              "2              lexus financial services  22200         24200   \n",
              "3                            peddle llc   3675          3200   \n",
              "4                                u-haul  22500         22100   \n",
              "...                                 ...    ...           ...   \n",
              "46573               wheels exchange llc  15650         17000   \n",
              "46574                nissan infiniti lt  19350         21500   \n",
              "46575          motorcars of south texas  22200         22000   \n",
              "46576              avis rac/san leandro  13400         13800   \n",
              "46577                kia motors finance   9700          9300   \n",
              "\n",
              "                                      saledate  \n",
              "0      Tue Jun 02 2015 02:30:00 GMT-0700 (PDT)  \n",
              "1      Wed Feb 18 2015 07:15:00 GMT-0800 (PST)  \n",
              "2      Tue Jan 20 2015 01:30:00 GMT-0800 (PST)  \n",
              "3      Wed Mar 04 2015 07:10:00 GMT-0800 (PST)  \n",
              "4      Wed Feb 18 2015 06:45:00 GMT-0800 (PST)  \n",
              "...                                        ...  \n",
              "46573  Wed Jan 07 2015 09:30:00 GMT-0800 (PST)  \n",
              "46574  Thu Jun 18 2015 05:30:00 GMT-0700 (PDT)  \n",
              "46575  Wed Feb 18 2015 02:00:00 GMT-0800 (PST)  \n",
              "46576  Wed Jan 14 2015 04:30:00 GMT-0800 (PST)  \n",
              "46577  Thu Dec 18 2014 10:00:00 GMT-0800 (PST)  \n",
              "\n",
              "[45838 rows x 16 columns]"
            ],
            "text/html": [
              "\n",
              "  <div id=\"df-a962e62a-43e8-477f-bf9d-b47968431664\">\n",
              "    <div class=\"colab-df-container\">\n",
              "      <div>\n",
              "<style scoped>\n",
              "    .dataframe tbody tr th:only-of-type {\n",
              "        vertical-align: middle;\n",
              "    }\n",
              "\n",
              "    .dataframe tbody tr th {\n",
              "        vertical-align: top;\n",
              "    }\n",
              "\n",
              "    .dataframe thead th {\n",
              "        text-align: right;\n",
              "    }\n",
              "</style>\n",
              "<table border=\"1\" class=\"dataframe\">\n",
              "  <thead>\n",
              "    <tr style=\"text-align: right;\">\n",
              "      <th></th>\n",
              "      <th>year</th>\n",
              "      <th>make</th>\n",
              "      <th>model</th>\n",
              "      <th>trim</th>\n",
              "      <th>body</th>\n",
              "      <th>transmission</th>\n",
              "      <th>vin</th>\n",
              "      <th>state</th>\n",
              "      <th>condition</th>\n",
              "      <th>odometer</th>\n",
              "      <th>color</th>\n",
              "      <th>interior</th>\n",
              "      <th>seller</th>\n",
              "      <th>mmr</th>\n",
              "      <th>sellingprice</th>\n",
              "      <th>saledate</th>\n",
              "    </tr>\n",
              "  </thead>\n",
              "  <tbody>\n",
              "    <tr>\n",
              "      <th>0</th>\n",
              "      <td>2013</td>\n",
              "      <td>Hyundai</td>\n",
              "      <td>Sonata</td>\n",
              "      <td>GLS</td>\n",
              "      <td>Sedan</td>\n",
              "      <td>1</td>\n",
              "      <td>5npeb4acxdh702805</td>\n",
              "      <td>ma</td>\n",
              "      <td>3.9</td>\n",
              "      <td>50404.0</td>\n",
              "      <td>black</td>\n",
              "      <td>gray</td>\n",
              "      <td>the hertz corporation</td>\n",
              "      <td>11000</td>\n",
              "      <td>10900</td>\n",
              "      <td>Tue Jun 02 2015 02:30:00 GMT-0700 (PDT)</td>\n",
              "    </tr>\n",
              "    <tr>\n",
              "      <th>1</th>\n",
              "      <td>2014</td>\n",
              "      <td>Toyota</td>\n",
              "      <td>4runner</td>\n",
              "      <td>SR5</td>\n",
              "      <td>SUV</td>\n",
              "      <td>1</td>\n",
              "      <td>jtezu5jr2e5064567</td>\n",
              "      <td>fl</td>\n",
              "      <td>4.9</td>\n",
              "      <td>17846.0</td>\n",
              "      <td>gray</td>\n",
              "      <td>unknown</td>\n",
              "      <td>award auto sales and leasing inc</td>\n",
              "      <td>28700</td>\n",
              "      <td>29900</td>\n",
              "      <td>Wed Feb 18 2015 07:15:00 GMT-0800 (PST)</td>\n",
              "    </tr>\n",
              "    <tr>\n",
              "      <th>2</th>\n",
              "      <td>2012</td>\n",
              "      <td>Lexus</td>\n",
              "      <td>Is 250</td>\n",
              "      <td>Base</td>\n",
              "      <td>Sedan</td>\n",
              "      <td>1</td>\n",
              "      <td>jthbf5c24c5168599</td>\n",
              "      <td>fl</td>\n",
              "      <td>4.1</td>\n",
              "      <td>21122.0</td>\n",
              "      <td>silver</td>\n",
              "      <td>black</td>\n",
              "      <td>lexus financial services</td>\n",
              "      <td>22200</td>\n",
              "      <td>24200</td>\n",
              "      <td>Tue Jan 20 2015 01:30:00 GMT-0800 (PST)</td>\n",
              "    </tr>\n",
              "    <tr>\n",
              "      <th>3</th>\n",
              "      <td>2002</td>\n",
              "      <td>BMW</td>\n",
              "      <td>X5</td>\n",
              "      <td>4.4i</td>\n",
              "      <td>SUV</td>\n",
              "      <td>1</td>\n",
              "      <td>5uxfb33562lh33864</td>\n",
              "      <td>fl</td>\n",
              "      <td>1.9</td>\n",
              "      <td>145303.0</td>\n",
              "      <td>black</td>\n",
              "      <td>black</td>\n",
              "      <td>peddle llc</td>\n",
              "      <td>3675</td>\n",
              "      <td>3200</td>\n",
              "      <td>Wed Mar 04 2015 07:10:00 GMT-0800 (PST)</td>\n",
              "    </tr>\n",
              "    <tr>\n",
              "      <th>4</th>\n",
              "      <td>2014</td>\n",
              "      <td>Ford</td>\n",
              "      <td>E-series van</td>\n",
              "      <td>E-250</td>\n",
              "      <td>MiniVan</td>\n",
              "      <td>1</td>\n",
              "      <td>1ftne2ew0eda31832</td>\n",
              "      <td>wa</td>\n",
              "      <td>4.9</td>\n",
              "      <td>6714.0</td>\n",
              "      <td>white</td>\n",
              "      <td>gray</td>\n",
              "      <td>u-haul</td>\n",
              "      <td>22500</td>\n",
              "      <td>22100</td>\n",
              "      <td>Wed Feb 18 2015 06:45:00 GMT-0800 (PST)</td>\n",
              "    </tr>\n",
              "    <tr>\n",
              "      <th>...</th>\n",
              "      <td>...</td>\n",
              "      <td>...</td>\n",
              "      <td>...</td>\n",
              "      <td>...</td>\n",
              "      <td>...</td>\n",
              "      <td>...</td>\n",
              "      <td>...</td>\n",
              "      <td>...</td>\n",
              "      <td>...</td>\n",
              "      <td>...</td>\n",
              "      <td>...</td>\n",
              "      <td>...</td>\n",
              "      <td>...</td>\n",
              "      <td>...</td>\n",
              "      <td>...</td>\n",
              "      <td>...</td>\n",
              "    </tr>\n",
              "    <tr>\n",
              "      <th>46573</th>\n",
              "      <td>2013</td>\n",
              "      <td>Ford</td>\n",
              "      <td>Edge</td>\n",
              "      <td>SE</td>\n",
              "      <td>SUV</td>\n",
              "      <td>1</td>\n",
              "      <td>2fmdk4gc2dbc03247</td>\n",
              "      <td>va</td>\n",
              "      <td>3.5</td>\n",
              "      <td>52844.0</td>\n",
              "      <td>unknown</td>\n",
              "      <td>gray</td>\n",
              "      <td>wheels exchange llc</td>\n",
              "      <td>15650</td>\n",
              "      <td>17000</td>\n",
              "      <td>Wed Jan 07 2015 09:30:00 GMT-0800 (PST)</td>\n",
              "    </tr>\n",
              "    <tr>\n",
              "      <th>46574</th>\n",
              "      <td>2012</td>\n",
              "      <td>Infiniti</td>\n",
              "      <td>G sedan</td>\n",
              "      <td>G37 Journey</td>\n",
              "      <td>Sedan</td>\n",
              "      <td>1</td>\n",
              "      <td>jn1cv6ap9cm623162</td>\n",
              "      <td>ca</td>\n",
              "      <td>4.5</td>\n",
              "      <td>23185.0</td>\n",
              "      <td>black</td>\n",
              "      <td>black</td>\n",
              "      <td>nissan infiniti lt</td>\n",
              "      <td>19350</td>\n",
              "      <td>21500</td>\n",
              "      <td>Thu Jun 18 2015 05:30:00 GMT-0700 (PDT)</td>\n",
              "    </tr>\n",
              "    <tr>\n",
              "      <th>46575</th>\n",
              "      <td>2013</td>\n",
              "      <td>BMW</td>\n",
              "      <td>3 series</td>\n",
              "      <td>328i</td>\n",
              "      <td>Sedan</td>\n",
              "      <td>1</td>\n",
              "      <td>wba3a5c56df356614</td>\n",
              "      <td>tx</td>\n",
              "      <td>4.2</td>\n",
              "      <td>45357.0</td>\n",
              "      <td>white</td>\n",
              "      <td>beige</td>\n",
              "      <td>motorcars of south texas</td>\n",
              "      <td>22200</td>\n",
              "      <td>22000</td>\n",
              "      <td>Wed Feb 18 2015 02:00:00 GMT-0800 (PST)</td>\n",
              "    </tr>\n",
              "    <tr>\n",
              "      <th>46576</th>\n",
              "      <td>2013</td>\n",
              "      <td>Toyota</td>\n",
              "      <td>Camry</td>\n",
              "      <td>LE</td>\n",
              "      <td>Sedan</td>\n",
              "      <td>1</td>\n",
              "      <td>4t1bf1fk8du254684</td>\n",
              "      <td>ca</td>\n",
              "      <td>3.5</td>\n",
              "      <td>43376.0</td>\n",
              "      <td>black</td>\n",
              "      <td>beige</td>\n",
              "      <td>avis rac/san leandro</td>\n",
              "      <td>13400</td>\n",
              "      <td>13800</td>\n",
              "      <td>Wed Jan 14 2015 04:30:00 GMT-0800 (PST)</td>\n",
              "    </tr>\n",
              "    <tr>\n",
              "      <th>46577</th>\n",
              "      <td>2013</td>\n",
              "      <td>Kia</td>\n",
              "      <td>Rio</td>\n",
              "      <td>LX</td>\n",
              "      <td>Sedan</td>\n",
              "      <td>1</td>\n",
              "      <td>knadm4a32d6164825</td>\n",
              "      <td>ga</td>\n",
              "      <td>4.1</td>\n",
              "      <td>49953.0</td>\n",
              "      <td>silver</td>\n",
              "      <td>black</td>\n",
              "      <td>kia motors finance</td>\n",
              "      <td>9700</td>\n",
              "      <td>9300</td>\n",
              "      <td>Thu Dec 18 2014 10:00:00 GMT-0800 (PST)</td>\n",
              "    </tr>\n",
              "  </tbody>\n",
              "</table>\n",
              "<p>45838 rows × 16 columns</p>\n",
              "</div>\n",
              "      <button class=\"colab-df-convert\" onclick=\"convertToInteractive('df-a962e62a-43e8-477f-bf9d-b47968431664')\"\n",
              "              title=\"Convert this dataframe to an interactive table.\"\n",
              "              style=\"display:none;\">\n",
              "        \n",
              "  <svg xmlns=\"http://www.w3.org/2000/svg\" height=\"24px\"viewBox=\"0 0 24 24\"\n",
              "       width=\"24px\">\n",
              "    <path d=\"M0 0h24v24H0V0z\" fill=\"none\"/>\n",
              "    <path d=\"M18.56 5.44l.94 2.06.94-2.06 2.06-.94-2.06-.94-.94-2.06-.94 2.06-2.06.94zm-11 1L8.5 8.5l.94-2.06 2.06-.94-2.06-.94L8.5 2.5l-.94 2.06-2.06.94zm10 10l.94 2.06.94-2.06 2.06-.94-2.06-.94-.94-2.06-.94 2.06-2.06.94z\"/><path d=\"M17.41 7.96l-1.37-1.37c-.4-.4-.92-.59-1.43-.59-.52 0-1.04.2-1.43.59L10.3 9.45l-7.72 7.72c-.78.78-.78 2.05 0 2.83L4 21.41c.39.39.9.59 1.41.59.51 0 1.02-.2 1.41-.59l7.78-7.78 2.81-2.81c.8-.78.8-2.07 0-2.86zM5.41 20L4 18.59l7.72-7.72 1.47 1.35L5.41 20z\"/>\n",
              "  </svg>\n",
              "      </button>\n",
              "      \n",
              "  <style>\n",
              "    .colab-df-container {\n",
              "      display:flex;\n",
              "      flex-wrap:wrap;\n",
              "      gap: 12px;\n",
              "    }\n",
              "\n",
              "    .colab-df-convert {\n",
              "      background-color: #E8F0FE;\n",
              "      border: none;\n",
              "      border-radius: 50%;\n",
              "      cursor: pointer;\n",
              "      display: none;\n",
              "      fill: #1967D2;\n",
              "      height: 32px;\n",
              "      padding: 0 0 0 0;\n",
              "      width: 32px;\n",
              "    }\n",
              "\n",
              "    .colab-df-convert:hover {\n",
              "      background-color: #E2EBFA;\n",
              "      box-shadow: 0px 1px 2px rgba(60, 64, 67, 0.3), 0px 1px 3px 1px rgba(60, 64, 67, 0.15);\n",
              "      fill: #174EA6;\n",
              "    }\n",
              "\n",
              "    [theme=dark] .colab-df-convert {\n",
              "      background-color: #3B4455;\n",
              "      fill: #D2E3FC;\n",
              "    }\n",
              "\n",
              "    [theme=dark] .colab-df-convert:hover {\n",
              "      background-color: #434B5C;\n",
              "      box-shadow: 0px 1px 3px 1px rgba(0, 0, 0, 0.15);\n",
              "      filter: drop-shadow(0px 1px 2px rgba(0, 0, 0, 0.3));\n",
              "      fill: #FFFFFF;\n",
              "    }\n",
              "  </style>\n",
              "\n",
              "      <script>\n",
              "        const buttonEl =\n",
              "          document.querySelector('#df-a962e62a-43e8-477f-bf9d-b47968431664 button.colab-df-convert');\n",
              "        buttonEl.style.display =\n",
              "          google.colab.kernel.accessAllowed ? 'block' : 'none';\n",
              "\n",
              "        async function convertToInteractive(key) {\n",
              "          const element = document.querySelector('#df-a962e62a-43e8-477f-bf9d-b47968431664');\n",
              "          const dataTable =\n",
              "            await google.colab.kernel.invokeFunction('convertToInteractive',\n",
              "                                                     [key], {});\n",
              "          if (!dataTable) return;\n",
              "\n",
              "          const docLinkHtml = 'Like what you see? Visit the ' +\n",
              "            '<a target=\"_blank\" href=https://colab.research.google.com/notebooks/data_table.ipynb>data table notebook</a>'\n",
              "            + ' to learn more about interactive tables.';\n",
              "          element.innerHTML = '';\n",
              "          dataTable['output_type'] = 'display_data';\n",
              "          await google.colab.output.renderOutput(dataTable, element);\n",
              "          const docLink = document.createElement('div');\n",
              "          docLink.innerHTML = docLinkHtml;\n",
              "          element.appendChild(docLink);\n",
              "        }\n",
              "      </script>\n",
              "    </div>\n",
              "  </div>\n",
              "  "
            ]
          },
          "metadata": {}
        }
      ],
      "source": [
        "#@title Default title text\n",
        " #wrong type\n",
        "#df['mmr']=df['mmr'].astype(str)\n",
        "df['mmr']=df['mmr'].str.replace('$',\"\")\n",
        "#df['sellingprice']=df['sellingprice'].astype(str)\n",
        "df['sellingprice']=df['sellingprice'].str.replace('$',\"\")\n",
        "#df['odometer']=df['odometer'].astype(str)\n",
        "df['odometer']=df['odometer'].str.replace('mi',\"\")\n",
        "#df['color']=df['color'].astype(str)\n",
        "df['color']=df['color'].str.replace('—',\"unknown\")\n",
        "#df['interior']=df['interior'].astype(str)\n",
        "df['interior']=df['interior'].str.replace('—',\"unknown\")\n",
        "df['transmission']=df['transmission'].str.replace('automatic',\"1\")\n",
        "df['transmission']=df['transmission'].str.replace('manual',\"0\")\n",
        "df['model']=df['model'].str.capitalize()\n",
        "\n",
        "df['mmr']=df['mmr'].astype(int)\n",
        "df['sellingprice']=df['sellingprice'].astype(int)\n",
        "df['odometer']=df['odometer'].astype(float)\n",
        "df.info()\n",
        "\n",
        "#inconsistencies \n",
        "df.drop(df[df['body'] == 'SuperCrew'].index,inplace = True)\n",
        "df.drop(df[df['body'] == 'supercrew'].index,inplace = True)\n",
        "\n",
        "df['body'] = df['body'].replace(['sedan','g sedan'],\"Sedan\")\n",
        "df['body'] = df['body'].replace(\"Crew Cab\", \"Pickup Truck\")\n",
        "df['body'] = df['body'].replace(\"Regular Cab\", \"Pickup Truck\")\n",
        "df['body'] = df['body'].replace(\"Double Cab\", \"Pickup Truck\")\n",
        "df['body'] = df['body'].replace(\"Extended Cab\", \"Pickup Truck\")\n",
        "df['body'] = df['body'].replace(\"SuperCab\", \"Pickup Truck\")\n",
        "df['body'] = df['body'].replace(\"Quad Cab\", \"Pickup Truck\")\n",
        "df['body'] = df['body'].replace(\"quad cab\", \"Pickup Truck\")\n",
        "df['body'] = df['body'].replace(\"king cab\", \"Pickup Truck\")\n",
        "df['body'] = df['body'].replace(\"crew cab\", \"Pickup Truck\")\n",
        "df['body'] = df['body'].replace(\"CrewMax Cab\", \"Pickup Truck\")\n",
        "df['body'] = df['body'].replace(\"double cab\", \"Pickup Truck\")\n",
        "df['body'] = df['body'].replace(\"Club Cab\", \"Pickup Truck\")\n",
        "df['body'] = df['body'].replace(\"Access Cab\", \"Pickup Truck\")\n",
        "df['body'] = df['body'].replace(\"Cab Plus 4\", \"Pickup Truck\")\n",
        "df['body'] = df['body'].replace(\"crewmax cab\", \"Pickup Truck\")\n",
        "df['body'] = df['body'].replace(\"King Cab\", \"Pickup Truck\")\n",
        "df['body'] = df['body'].replace(\"extended cab\", \"Pickup Truck\")\n",
        "df['body'] = df['body'].replace(\"Club Cab\", \"Pickup Truck\")\n",
        "df['body'] = df['body'].replace(\"supercab\", \"Pickup Truck\")\n",
        "df['body'] = df['body'].replace(\"Cab Plus 4\", \"Pickup Truck\")\n",
        "df['body'] = df['body'].replace(\"access cab\", \"Pickup Truck\")\n",
        "df['body'] = df['body'].replace(\"Mega Cab\", \"Pickup Truck\")\n",
        "df['body'] = df['body'].replace(\"regular cab\", \"Pickup Truck\")\n",
        "df['body'] = df['body'].replace(\"mega cab\", \"Pickup Truck\")\n",
        "df['body'] = df['body'].replace(\"regular-cab\", \"Pickup Truck\")\n",
        "df['body'] = df['body'].replace(\"Xtracab\", \"Pickup Truck\")\n",
        "df['body'] = df['body'].replace(\"xtracab\", \"Pickup Truck\")\n",
        "df['body'] = df['body'].replace(\"suv\", \"SUV\")\n",
        "df['body'] = df['body'].replace(\"wagon\", \"Wagon\")\n",
        "df['body'] = df['body'].replace(\"E-Series Van\", \"MiniVan\")\n",
        "df['body'] = df['body'].replace(\"minivan\", \"MiniVan\")\n",
        "df['body'] = df['body'].replace(\"G Sedan\", \"Sedan\")\n",
        "df['body'] = df['body'].replace(\"g Sedan\", \"Sedan\")\n",
        "\n",
        "df['body'] = df['body'].replace(\"coupe\", \"Coupe\")\n",
        "df['body'] = df['body'].replace(\"convertible\", \"Convertible\")\n",
        "df['body'] = df['body'].replace(\"G Convertible\", \"Convertible\")\n",
        "df['body'] = df['body'].replace(\"Beetle Convertible\", \"Convertible\")\n",
        "df['body'] = df['body'].replace(\"hatchback\", \"Hatchback\")\n",
        "df['body'] = df['body'].replace(\"Xtracab\", \"Pickup Truck\")\n",
        "df['body'] = df['body'].replace(['xtracab','supercrew',], \"Pickup Truck\")\n",
        "df['body'] = df['body'].replace(\"G Coupe\", \"Coupe\")\n",
        "df['body'] = df['body'].replace(\"Genesis Coupe\", \"Coupe\")\n",
        "df['body'] = df['body'].replace(\"G37 Convertible\", \"Convertible\")\n",
        "df['body'] = df['body'].replace(\"Beetle Convertible\", \"Convertible\")\n",
        "df['body'] = df['body'].replace(\"promaster cargo van\", \"Minivan\")\n",
        "df['body'] = df['body'].replace(\"Koup\", \"Coupe\")\n",
        "df['body'] = df['body'].replace(\"Elantra Coupe\", \"Coupe\")\n",
        "df['body'] = df['body'].replace(\"Q60 Convertible\", \"Convertible\")\n",
        "df['body'] = df['body'].replace(\"Promaster Cargo Van\", \"Minivan\")\n",
        "df['body'] = df['body'].replace(\"Koup\", \"Coupe\")\n",
        "df['body'] = df['body'].replace(\"Elantra Coupe\", \"Coupe\")\n",
        "df['body'] = df['body'].replace(\"Q60 Convertible\", \"Convertible\")\n",
        "df['body'] = df['body'].replace(\"Promaster Cargo Van\", \"Minivan\")\n",
        "df['body'] = df['body'].replace(\"CTS Coupe\", \"Coupe\")\n",
        "df['body'] = df['body'].replace(['CTS Wagon','tsx sport wagon','TSX Sport Wagon'], \"Wagon\")\n",
        "df['body'] = df['body'].replace(\"Q60 Convertible\", \"Convertible\")\n",
        "df['body'] = df['body'].replace(\"Promaster Cargo Van\", \"Minivan\")\n",
        "df['body'] = df['body'].replace(['g coupe','genesis coupe','CTS-V Coupe','Q60 Coupe','cts coupe'], 'Coupe')\n",
        "df['body'] = df['body'].replace(['van','Van','e-series van','Transit Van'], 'Minivan')\n",
        "df['body'] = df['body'].replace(['GranTurismo Convertible','beetle convertible','g convertible','granturismo convertible'], 'Convertible')\n",
        "\n",
        "\n",
        "df['body'].unique()\n",
        "\n",
        "display(df)\n"
      ]
    },
    {
      "cell_type": "markdown",
      "metadata": {
        "id": "fIjNT7EfkY2j"
      },
      "source": [
        "## Exploratory Data Analysis\n"
      ]
    },
    {
      "cell_type": "markdown",
      "metadata": {
        "id": "XaEeQudskY2j"
      },
      "source": [
        "**Q0 (example): What is the most popular car exterior color?**\n"
      ]
    },
    {
      "cell_type": "markdown",
      "metadata": {
        "id": "iYzlz1jckY2k"
      },
      "source": [
        "**Visualization**"
      ]
    },
    {
      "cell_type": "code",
      "execution_count": null,
      "metadata": {
        "id": "2j4TnCqvkY2k",
        "outputId": "3149b619-4286-49da-8b47-1ff87af5377f"
      },
      "outputs": [
        {
          "data": {
            "text/plain": [
              "<AxesSubplot: xlabel='color', ylabel='count'>"
            ]
          },
          "execution_count": 2,
          "metadata": {},
          "output_type": "execute_result"
        },
        {
          "data": {
            "image/png": "[encoded data removed]",
            "text/plain": [
              "<Figure size 576x396 with 1 Axes>"
            ]
          },
          "metadata": {},
          "output_type": "display_data"
        }
      ],
      "source": [
        "# Basic, minimal plot example\n",
        "sns.countplot(x='color', data=df)"
      ]
    },
    {
      "cell_type": "code",
      "execution_count": null,
      "metadata": {
        "id": "2FZYZsF8kY2l",
        "outputId": "8cd5cb76-767c-4b7b-b2ca-bb4218e75cf1"
      },
      "outputs": [
        {
          "data": {
            "image/png": "[encoded data removed]",
            "text/plain": [
              "<Figure size 576x396 with 1 Axes>"
            ]
          },
          "metadata": {},
          "output_type": "display_data"
        }
      ],
      "source": [
        "# Much better plot, with sorting in descending order, rotated x-axis labels for clarity, and a plot title\n",
        "# Your visualizations should be neatly presented like the example below.\n",
        "large_to_small = df.groupby('color').size().sort_values(ascending=False)\n",
        "sns.countplot(x='color', data=df, order=large_to_small.index).set(title='Most popular colors sold on the used car auction market')\n",
        "plt.xticks(rotation=90)\n",
        "plt.tight_layout()"
      ]
    },
    {
      "cell_type": "markdown",
      "metadata": {
        "id": "dIA38F0FkY2m"
      },
      "source": [
        "**Example note:** _you need to answer using a visualization (above) and a written/text answer (below)._\n",
        "\n",
        "**Answer for Q0**: Black is the most popular exterior color of used cars sold in auctions, followed very closely by white."
      ]
    },
    {
      "cell_type": "markdown",
      "metadata": {
        "id": "x4TBmTXYkY2m"
      },
      "source": [
        "**Q1: What are the most popular car brands? (mention at least 3)**\n"
      ]
    },
    {
      "cell_type": "markdown",
      "metadata": {
        "id": "dNML7huPkY2n"
      },
      "source": [
        "**Visualization**"
      ]
    },
    {
      "cell_type": "code",
      "execution_count": null,
      "metadata": {
        "colab": {
          "base_uri": "https://localhost:8080/"
        },
        "id": "FMzGpa92kY2n",
        "outputId": "12b9ee4b-a027-4ad3-d303-cd112f07652c"
      },
      "outputs": [
        {
          "output_type": "execute_result",
          "data": {
            "text/plain": [
              "Ford             7871\n",
              "Chevrolet        5322\n",
              "Nissan           4297\n",
              "Toyota           3474\n",
              "Dodge            2718\n",
              "Honda            2403\n",
              "Hyundai          1801\n",
              "BMW              1680\n",
              "Kia              1639\n",
              "Chrysler         1566\n",
              "Infiniti         1442\n",
              "Mercedes-Benz    1375\n",
              "Jeep             1305\n",
              "Volkswagen       1038\n",
              "Lexus            1024\n",
              "GMC               901\n",
              "Mazda             701\n",
              "Cadillac          606\n",
              "Audi              485\n",
              "Acura             476\n",
              "Buick             467\n",
              "Lincoln           457\n",
              "Subaru            444\n",
              "Ram               397\n",
              "Pontiac           377\n",
              "Mitsubishi        370\n",
              "MINI              289\n",
              "Saturn            286\n",
              "Volvo             281\n",
              "Scion             159\n",
              "Mercury           148\n",
              "Land Rover        143\n",
              "Porsche           129\n",
              "Jaguar            122\n",
              "Suzuki             96\n",
              "HUMMER             84\n",
              "FIAT               56\n",
              "Saab               41\n",
              "smart              36\n",
              "Oldsmobile         24\n",
              "Isuzu              19\n",
              "Maserati           10\n",
              "Bentley             8\n",
              "Fisker              3\n",
              "Plymouth            3\n",
              "Geo                 2\n",
              "Aston Martin        2\n",
              "Ferrari             1\n",
              "Name: make, dtype: int64"
            ]
          },
          "metadata": {},
          "execution_count": 100
        }
      ],
      "source": [
        "df['make'].value_counts()"
      ]
    },
    {
      "cell_type": "markdown",
      "metadata": {
        "id": "fecqLWz8kY2n"
      },
      "source": [
        "**Answer for Q1**: Ford, Chevrolet, Nissan"
      ]
    },
    {
      "cell_type": "markdown",
      "metadata": {
        "id": "aRzMkPGskY2o"
      },
      "source": [
        "**Q2: Do automatic cars, on average, sell for a higher price than manual cars?**\n"
      ]
    },
    {
      "cell_type": "markdown",
      "metadata": {
        "id": "ksotzwWUkY2p"
      },
      "source": [
        "**Visualization**"
      ]
    },
    {
      "cell_type": "code",
      "execution_count": null,
      "metadata": {
        "colab": {
          "base_uri": "https://localhost:8080/",
          "height": 378
        },
        "id": "WQZGbz21kY2p",
        "outputId": "8405f37e-4473-490f-8ce1-e1d98a0b6026"
      },
      "outputs": [
        {
          "output_type": "execute_result",
          "data": {
            "text/plain": [
              "<matplotlib.axes._subplots.AxesSubplot at 0x7fb83ae360d0>"
            ]
          },
          "metadata": {},
          "execution_count": 106
        },
        {
          "output_type": "display_data",
          "data": {
            "text/plain": [
              "<Figure size 576x396 with 1 Axes>"
            ],
            "image/png": "[encoded data removed]"
          },
          "metadata": {}
        }
      ],
      "source": [
        "sns.barplot(data=df,x=\"transmission\",y=\"sellingprice\")"
      ]
    },
    {
      "cell_type": "markdown",
      "metadata": {
        "id": "qb02NJIskY2p"
      },
      "source": [
        "**Answer for Q2**: 1 stands for automatic and 0 stands for manual. Automatic cars sell on average sell for a higher price than manual. \n"
      ]
    },
    {
      "cell_type": "markdown",
      "metadata": {
        "id": "DmSQSgewkY2p"
      },
      "source": [
        "**Q3: Draw a box plot showing the distribution of the selling prices of each car make. Which car makes have the widest distribution of selling price (name two)? Which are the most expensive (name two)?**\n"
      ]
    },
    {
      "cell_type": "markdown",
      "metadata": {
        "id": "c6droKoGkY2q"
      },
      "source": [
        "**Visualization**"
      ]
    },
    {
      "cell_type": "code",
      "execution_count": null,
      "metadata": {
        "colab": {
          "base_uri": "https://localhost:8080/",
          "height": 379
        },
        "id": "6jQ_cf3IkY2q",
        "outputId": "5f0aa16d-3d34-47e2-a381-e843fb180709"
      },
      "outputs": [
        {
          "output_type": "execute_result",
          "data": {
            "text/plain": [
              "<matplotlib.axes._subplots.AxesSubplot at 0x7fb839482c10>"
            ]
          },
          "metadata": {},
          "execution_count": 118
        },
        {
          "output_type": "display_data",
          "data": {
            "text/plain": [
              "<Figure size 576x396 with 1 Axes>"
            ],
            "image/png": "[encoded data removed]"
          },
          "metadata": {}
        }
      ],
      "source": [
        "\n",
        "sns.boxplot(data=df, x=\"sellingprice\", y=\"make\")\n"
      ]
    },
    {
      "cell_type": "markdown",
      "metadata": {
        "id": "DcKm9yKfkY2q"
      },
      "source": [
        "**Answer for Q3**: Porsche and Jaguar have the widest distribution. Porsche and Ford are the most 2 expensive. "
      ]
    },
    {
      "cell_type": "markdown",
      "metadata": {
        "id": "gemQNIvHkY2r"
      },
      "source": [
        "**Q4: How correlated is the odometer reading or mileage with the car's sale price? (Hint: plot a line of best fit.)**"
      ]
    },
    {
      "cell_type": "markdown",
      "metadata": {
        "id": "gLGS91USkY2r"
      },
      "source": [
        "**Visualization**"
      ]
    },
    {
      "cell_type": "code",
      "execution_count": 32,
      "metadata": {
        "colab": {
          "base_uri": "https://localhost:8080/",
          "height": 386
        },
        "id": "a3biupFAkY2r",
        "outputId": "c92d943a-1cea-48ae-a34d-9fd233b51a60"
      },
      "outputs": [
        {
          "output_type": "execute_result",
          "data": {
            "text/plain": [
              "<seaborn.axisgrid.FacetGrid at 0x7f3b0d074c90>"
            ]
          },
          "metadata": {},
          "execution_count": 32
        },
        {
          "output_type": "display_data",
          "data": {
            "text/plain": [
              "<Figure size 360x360 with 1 Axes>"
            ],
            "image/png": "[encoded data removed]"
          },
          "metadata": {}
        }
      ],
      "source": [
        "sns.lmplot(x='odometer', data=df,y='sellingprice')"
      ]
    },
    {
      "cell_type": "markdown",
      "metadata": {
        "id": "fKs1-LlTkY2r"
      },
      "source": [
        "**Answer for Q4**: Negative correlation"
      ]
    },
    {
      "cell_type": "markdown",
      "metadata": {
        "id": "od850wB7kY2s"
      },
      "source": [
        "**Q5: Likewise, how correlated is the car's condition with its sale price? (Hint: plot a line of best fit.)**"
      ]
    },
    {
      "cell_type": "markdown",
      "metadata": {
        "id": "7PK1Zf0BkY2s"
      },
      "source": [
        "**Visualization**"
      ]
    },
    {
      "cell_type": "code",
      "execution_count": 34,
      "metadata": {
        "colab": {
          "base_uri": "https://localhost:8080/",
          "height": 420
        },
        "id": "aXchhORTkY2s",
        "outputId": "0f03c761-dd08-4538-e66a-45ac52ce6175"
      },
      "outputs": [
        {
          "output_type": "execute_result",
          "data": {
            "text/plain": [
              "Text(0.5, 1.0, 'Scatter Plot of Car condition vs Selling price')"
            ]
          },
          "metadata": {},
          "execution_count": 34
        },
        {
          "output_type": "display_data",
          "data": {
            "text/plain": [
              "<Figure size 1008x432 with 1 Axes>"
            ],
            "image/png": "[encoded data removed]"
          },
          "metadata": {}
        }
      ],
      "source": [
        "f = plt.figure(figsize=(14,6))\n",
        "ax = f.add_subplot(121)\n",
        "sns.scatterplot(x='condition', y='sellingprice', data=df, palette='magma', ax=ax)\n",
        "ax.set_title('Scatter Plot of Car condition vs Selling price')"
      ]
    },
    {
      "cell_type": "markdown",
      "metadata": {
        "id": "Zb762QHrkY2t"
      },
      "source": [
        "**Answer for Q5**: Positive correalation"
      ]
    },
    {
      "cell_type": "markdown",
      "metadata": {
        "id": "8mRkyKN9kY2t"
      },
      "source": [
        "**Q6: Are there differences in the average car price due to the car's body type? If so, rank their order and state the most expensive and least expensive car body type.**"
      ]
    },
    {
      "cell_type": "markdown",
      "metadata": {
        "id": "0N8fVhRekY2u"
      },
      "source": [
        "**Visualization**"
      ]
    },
    {
      "cell_type": "code",
      "execution_count": 35,
      "metadata": {
        "id": "g_OLtT-WkY2u",
        "outputId": "6e37c96a-c6f2-41f4-dd38-8c6af31e2cc8",
        "colab": {
          "base_uri": "https://localhost:8080/",
          "height": 378
        }
      },
      "outputs": [
        {
          "output_type": "execute_result",
          "data": {
            "text/plain": [
              "<matplotlib.axes._subplots.AxesSubplot at 0x7f3b0bbc3a50>"
            ]
          },
          "metadata": {},
          "execution_count": 35
        },
        {
          "output_type": "display_data",
          "data": {
            "text/plain": [
              "<Figure size 576x396 with 1 Axes>"
            ],
            "image/png": "[encoded data removed]"
          },
          "metadata": {}
        }
      ],
      "source": [
        "dff = df.groupby('body').sellingprice.mean().sort_values(ascending=False).to_frame(name=\"salesprice\").reset_index()\n",
        "sns.barplot(data=dff, x = \"body\", y = \"salesprice\")"
      ]
    },
    {
      "cell_type": "markdown",
      "metadata": {
        "id": "bVT4Mg5xkY2u"
      },
      "source": [
        "**Answer for Q6**: Yes, the most expensive is convertible and the least expensive is wagon. "
      ]
    },
    {
      "cell_type": "markdown",
      "metadata": {
        "id": "NuYpRwElkY2u"
      },
      "source": [
        "## Data Preparation for Modelling\n",
        "\n",
        "_Apply any additional data preparation steps needed before modelling below. Show/output the changes to the dataset._"
      ]
    },
    {
      "cell_type": "code",
      "execution_count": null,
      "metadata": {
        "id": "mTMaSpa4kY2v"
      },
      "outputs": [],
      "source": []
    },
    {
      "cell_type": "markdown",
      "metadata": {
        "id": "5wpK2YFRkY2v"
      },
      "source": [
        "## Modelling\n",
        "\n",
        "_Apply the linear regression model below._"
      ]
    },
    {
      "cell_type": "code",
      "execution_count": null,
      "metadata": {
        "id": "cPXHNIhDkY2v"
      },
      "outputs": [],
      "source": []
    },
    {
      "cell_type": "markdown",
      "metadata": {
        "id": "nO8SKWRbkY2v"
      },
      "source": [
        "## Model Evaluation\n",
        "\n",
        "_Evaluate the model you applied._"
      ]
    },
    {
      "cell_type": "code",
      "execution_count": null,
      "metadata": {
        "id": "UZPwn_DTkY2v"
      },
      "outputs": [],
      "source": []
    },
    {
      "cell_type": "markdown",
      "metadata": {
        "id": "Y5WfNmEykY2w"
      },
      "source": [
        "## Model Validation (Optional)\n",
        "\n",
        "_Check if the model you applied meets the necessary assumptions for the chosen model._"
      ]
    },
    {
      "cell_type": "code",
      "execution_count": null,
      "metadata": {
        "id": "k8u5EKkukY2w"
      },
      "outputs": [],
      "source": []
    },
    {
      "cell_type": "markdown",
      "metadata": {
        "id": "z20MGJDLkY2w"
      },
      "source": [
        "## Conclusion and Recommendations\n",
        "\n",
        "Comment on the model accuracy and your findings from model evaluation and validation. State the problems (if any) and suggest possible solutions. Would you recommend this model for a used cars dealership that wants to get reliable estimates for used car prices?\n",
        "\n",
        "**Answer**: your answer here."
      ]
    }
  ],
  "metadata": {
    "kernelspec": {
      "display_name": "Python 3.8.10 64-bit (microsoft store)",
      "language": "python",
      "name": "python3"
    },
    "language_info": {
      "codemirror_mode": {
        "name": "ipython",
        "version": 3
      },
      "file_extension": ".py",
      "mimetype": "text/x-python",
      "name": "python",
      "nbconvert_exporter": "python",
      "pygments_lexer": "ipython3",
      "version": "3.8.10"
    },
    "vscode": {
      "interpreter": {
        "hash": "53838b41801d6340687d97fd6c2932a6cda47cc00efb016738355d36a9d1dd3a"
      }
    },
    "colab": {
      "provenance": []
    }
  },
  "nbformat": 4,
  "nbformat_minor": 0
}